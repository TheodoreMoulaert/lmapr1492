{
 "cells": [
  {
   "cell_type": "markdown",
   "metadata": {},
   "source": [
    "# Analyse de la structure cristalline\n",
    "\n",
    "Ce notebook permet d'analyser la structure cristalline d'un matériau. Nous allons extraire les informations sur le réseau direct, le réseau réciproque, le type de maille, le système cristallin et le groupe ponctuel."
   ]
  },
  {
   "cell_type": "code",
   "execution_count": 1,
   "metadata": {},
   "outputs": [],
   "source": [
    "# Importation des bibliothèques nécessaires\n",
    "from mp_api.client import MPRester\n",
    "from pymatgen.symmetry.analyzer import SpacegroupAnalyzer\n",
    "import numpy as np"
   ]
  },
  {
   "cell_type": "markdown",
   "metadata": {},
   "source": [
    "## Récupération de la structure cristalline\n",
    "\n",
    "Nous utilisons l'API de Materials Project pour récupérer la structure cristalline du LiRhO2 avec l'identifiant `mp-14115`."
   ]
  },
  {
   "cell_type": "code",
   "execution_count": 2,
   "metadata": {},
   "outputs": [
    {
     "data": {
      "application/vnd.jupyter.widget-view+json": {
       "model_id": "ff64e6c8222645149965f2dda179a74f",
       "version_major": 2,
       "version_minor": 0
      },
      "text/plain": [
       "Retrieving MaterialsDoc documents:   0%|          | 0/1 [00:00<?, ?it/s]"
      ]
     },
     "metadata": {},
     "output_type": "display_data"
    }
   ],
   "source": [
    "# Récupération de la structure cristalline\n",
    "with MPRester(\"SIW188zlPeNPO5kUv2cgLJFjL9GATHk3\") as m:\n",
    "    crystal_structure = m.get_structure_by_material_id(\"mp-14115\")"
   ]
  },
  {
   "cell_type": "markdown",
   "metadata": {},
   "source": [
    "## Réseau direct\n",
    "\n",
    "Le réseau direct est défini par les vecteurs de base du réseau cristallin. Nous affichons les vecteurs de base, leurs normes (en Ångström) et les angles entre eux (en degrés)."
   ]
  },
  {
   "cell_type": "code",
   "execution_count": 3,
   "metadata": {},
   "outputs": [
    {
     "name": "stdout",
     "output_type": "stream",
     "text": [
      "Vecteurs de base du réseau direct de la structure:\n",
      "\n",
      "Vecteur a = [ 2.86802513 -0.02123606  4.09421822]\n",
      "Vecteur b = [1.27581608 2.56871893 4.09421822]\n",
      "Vecteur c = [-0.03454267 -0.02123606  4.99869912]\n",
      "\n",
      "Normes des vecteurs en Ångström:\n",
      "\n",
      "||a|| = 4.9989 Å\n",
      "||b|| = 4.9989 Å\n",
      "||c|| = 4.9989 Å\n",
      "\n",
      "Angles entre les vecteurs en °:\n",
      "\n",
      "Angle alpha = 35.4071°\n",
      "Angle beta = 35.4071°\n",
      "Angle gamma = 35.4071°\n",
      "\n"
     ]
    }
   ],
   "source": [
    "# Réseau direct\n",
    "direct_lattice = crystal_structure.lattice\n",
    "direct_vectors = direct_lattice.matrix\n",
    "direct_lengths = direct_lattice.abc\n",
    "direct_angles = direct_lattice.angles\n",
    "\n",
    "print(\"Vecteurs de base du réseau direct de la structure:\\n\")\n",
    "print(f\"Vecteur a = {direct_vectors[0]}\")\n",
    "print(f\"Vecteur b = {direct_vectors[1]}\")\n",
    "print(f\"Vecteur c = {direct_vectors[2]}\\n\")\n",
    "\n",
    "print(\"Normes des vecteurs en Ångström:\\n\")\n",
    "print(f\"||a|| = {direct_lengths[0]:.4f} Å\")\n",
    "print(f\"||b|| = {direct_lengths[1]:.4f} Å\")\n",
    "print(f\"||c|| = {direct_lengths[2]:.4f} Å\\n\")\n",
    "\n",
    "print(\"Angles entre les vecteurs en °:\\n\")\n",
    "print(f\"Angle alpha = {direct_angles[0]:.4f}°\")\n",
    "print(f\"Angle beta = {direct_angles[1]:.4f}°\")\n",
    "print(f\"Angle gamma = {direct_angles[2]:.4f}°\\n\")"
   ]
  },
  {
   "cell_type": "markdown",
   "metadata": {},
   "source": [
    "## Réseau réciproque\n",
    "\n",
    "Le réseau réciproque est obtenu à partir du réseau direct. Nous affichons également les vecteurs de base, leurs normes et les angles entre eux."
   ]
  },
  {
   "cell_type": "code",
   "execution_count": 4,
   "metadata": {},
   "outputs": [
    {
     "name": "stdout",
     "output_type": "stream",
     "text": [
      "Vecteurs de base du réseau réciproque de la structure:\n",
      "\n",
      "Vecteur a* = [ 2.16791995 -1.093225    0.01033668]\n",
      "Vecteur b* = [0.00322116 2.42796268 0.01033702]\n",
      "Vecteur c* = [-1.77828776 -1.0932259   1.24003116]\n",
      "\n",
      "Normes des vecteurs en Ångström⁻¹:\n",
      "\n",
      "||a*|| = 2.4280 Å⁻¹\n",
      "||b*|| = 2.4280 Å⁻¹\n",
      "||c*|| = 2.4280 Å⁻¹\n",
      "\n",
      "Angles entre les vecteurs en °:\n",
      "\n",
      "Angle alpha = 116.6829°\n",
      "Angle beta = 116.6830°\n",
      "Angle gamma = 116.6829°\n",
      "\n"
     ]
    }
   ],
   "source": [
    "# Réseau réciproque\n",
    "reciprocal_lattice = crystal_structure.lattice.reciprocal_lattice\n",
    "reciprocal_vectors = reciprocal_lattice.matrix\n",
    "reciprocal_lengths = reciprocal_lattice.abc\n",
    "reciprocal_angles = reciprocal_lattice.angles\n",
    "\n",
    "print(\"Vecteurs de base du réseau réciproque de la structure:\\n\")\n",
    "print(f\"Vecteur a* = {reciprocal_vectors[0]}\")\n",
    "print(f\"Vecteur b* = {reciprocal_vectors[1]}\")\n",
    "print(f\"Vecteur c* = {reciprocal_vectors[2]}\\n\")\n",
    "\n",
    "print(\"Normes des vecteurs en Ångström⁻¹:\\n\")\n",
    "print(f\"||a*|| = {reciprocal_lengths[0]:.4f} Å⁻¹\")\n",
    "print(f\"||b*|| = {reciprocal_lengths[1]:.4f} Å⁻¹\")\n",
    "print(f\"||c*|| = {reciprocal_lengths[2]:.4f} Å⁻¹\\n\")\n",
    "\n",
    "print(\"Angles entre les vecteurs en °:\\n\")\n",
    "print(f\"Angle alpha = {reciprocal_angles[0]:.4f}°\")\n",
    "print(f\"Angle beta = {reciprocal_angles[1]:.4f}°\")\n",
    "print(f\"Angle gamma = {reciprocal_angles[2]:.4f}°\\n\")"
   ]
  },
  {
   "cell_type": "markdown",
   "metadata": {},
   "source": [
    "## Type de maille\n",
    "\n",
    "Le type de maille est déterminé en analysant la symétrie de la structure cristalline."
   ]
  },
  {
   "cell_type": "code",
   "execution_count": 5,
   "metadata": {},
   "outputs": [
    {
     "name": "stdout",
     "output_type": "stream",
     "text": [
      "Type de maille: rhombohedral\n"
     ]
    }
   ],
   "source": [
    "# Type de maille\n",
    "symmetry_analyzer = SpacegroupAnalyzer(crystal_structure)\n",
    "lattice_type = symmetry_analyzer.get_lattice_type()\n",
    "print(\"Type de maille:\", lattice_type)"
   ]
  },
  {
   "cell_type": "markdown",
   "metadata": {},
   "source": [
    "## Système cristallin\n",
    "\n",
    "Le système cristallin est une classification plus large qui décrit la symétrie de la structure."
   ]
  },
  {
   "cell_type": "code",
   "execution_count": 6,
   "metadata": {},
   "outputs": [
    {
     "name": "stdout",
     "output_type": "stream",
     "text": [
      "Système cristallin: trigonal\n"
     ]
    }
   ],
   "source": [
    "# Système cristallin\n",
    "crystal_system = symmetry_analyzer.get_crystal_system()\n",
    "print(\"Système cristallin:\", crystal_system)"
   ]
  },
  {
   "cell_type": "markdown",
   "metadata": {},
   "source": [
    "## Groupe ponctuel\n",
    "\n",
    "Le groupe ponctuel décrit les symétries ponctuelles de la structure cristalline."
   ]
  },
  {
   "cell_type": "code",
   "execution_count": 7,
   "metadata": {},
   "outputs": [
    {
     "name": "stdout",
     "output_type": "stream",
     "text": [
      "Groupe ponctuel: -3m\n"
     ]
    }
   ],
   "source": [
    "# Groupe ponctuel\n",
    "point_group = symmetry_analyzer.get_point_group_symbol()\n",
    "print(\"Groupe ponctuel:\", point_group)"
   ]
  }
 ],
 "metadata": {
  "kernelspec": {
   "display_name": "Python 3 (ipykernel)",
   "language": "python",
   "name": "python3"
  },
  "language_info": {
   "codemirror_mode": {
    "name": "ipython",
    "version": 3
   },
   "file_extension": ".py",
   "mimetype": "text/x-python",
   "name": "python",
   "nbconvert_exporter": "python",
   "pygments_lexer": "ipython3",
   "version": "3.9.13"
  }
 },
 "nbformat": 4,
 "nbformat_minor": 2
}
