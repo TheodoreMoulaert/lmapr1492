{
 "cells": [
  {
   "cell_type": "markdown",
   "metadata": {},
   "source": [
    "# Analyse de la structure cristalline\n",
    "\n",
    "Ce notebook permet d'analyser la structure cristalline d'un matériau. Nous allons extraire les informations sur le réseau direct, le réseau réciproque, le type de maille, le système cristallin et le groupe ponctuel."
   ]
  },
  {
   "cell_type": "code",
   "execution_count": 1,
   "metadata": {},
   "outputs": [],
   "source": [
    "# Importation des bibliothèques nécessaires\n",
    "from mp_api.client import MPRester\n",
    "from pymatgen.symmetry.analyzer import SpacegroupAnalyzer"
   ]
  },
  {
   "cell_type": "markdown",
   "metadata": {},
   "source": [
    "## Récupération de la structure cristalline\n",
    "\n",
    "Nous utilisons l'API de Materials Project pour récupérer la structure cristalline du LiRhO2 avec l'identifiant `mp-14115`."
   ]
  },
  {
   "cell_type": "code",
   "execution_count": 2,
   "metadata": {},
   "outputs": [
    {
     "data": {
      "application/vnd.jupyter.widget-view+json": {
       "model_id": "8ec13f8fad6c480986652ba7bc983c6e",
       "version_major": 2,
       "version_minor": 0
      },
      "text/plain": [
       "Retrieving MaterialsDoc documents:   0%|          | 0/1 [00:00<?, ?it/s]"
      ]
     },
     "metadata": {},
     "output_type": "display_data"
    }
   ],
   "source": [
    "# Récupération de la structure cristalline\n",
    "with MPRester(\"SIW188zlPeNPO5kUv2cgLJFjL9GATHk3\") as m:\n",
    "    structure = m.get_structure_by_material_id(\"mp-14115\")"
   ]
  },
  {
   "cell_type": "markdown",
   "metadata": {},
   "source": [
    "## Réseau direct\n",
    "\n",
    "Le réseau direct est défini par les vecteurs de base du réseau cristallin. Nous affichons les normes de ces vecteurs (en Ångström) et les angles entre eux (en degrés)."
   ]
  },
  {
   "cell_type": "code",
   "execution_count": 3,
   "metadata": {},
   "outputs": [
    {
     "name": "stdout",
     "output_type": "stream",
     "text": [
      "Vecteurs de base du réseau direct de la structure:\n",
      "\n",
      "Normes en Ångström:\n",
      "\n",
      "a = 4.998864065918957\n",
      "b = 4.998864515498183\n",
      "c = 4.998863576712594\n",
      "\n",
      "Angles en °:\n",
      "\n",
      "alpha = 35.40708847687191\n",
      "beta = 35.407076131518444\n",
      "gamma = 35.40709441736198\n",
      "\n"
     ]
    }
   ],
   "source": [
    "# Réseau direct\n",
    "vecteurs = structure.lattice\n",
    "normes = vecteurs.abc\n",
    "angles = vecteurs.angles\n",
    "\n",
    "print(\"Vecteurs de base du réseau direct de la structure:\\n\")\n",
    "print(\"Normes en Ångström:\\n\")\n",
    "print(\"a = {}\\nb = {}\\nc = {}\\n\".format(normes[0], normes[1], normes[2]))\n",
    "print(\"Angles en °:\\n\")\n",
    "print(\"alpha = {}\\nbeta = {}\\ngamma = {}\\n\".format(angles[0], angles[1], angles[2]))"
   ]
  },
  {
   "cell_type": "markdown",
   "metadata": {},
   "source": [
    "## Réseau réciproque\n",
    "\n",
    "Le réseau réciproque est obtenu à partir du réseau direct. Nous affichons également les normes des vecteurs de base et les angles entre eux."
   ]
  },
  {
   "cell_type": "code",
   "execution_count": 4,
   "metadata": {},
   "outputs": [
    {
     "name": "stdout",
     "output_type": "stream",
     "text": [
      "Vecteurs de base du réseau réciproque de la structure:\n",
      "\n",
      "Normes en Ångström:\n",
      "\n",
      "a = 2.4279877786061936\n",
      "b = 2.4279868242893494\n",
      "c = 2.427988370352466\n",
      "\n",
      "Angles en °:\n",
      "\n",
      "alpha = 116.6829263780806\n",
      "beta = 116.68296093424557\n",
      "gamma = 116.68290974990417\n",
      "\n"
     ]
    }
   ],
   "source": [
    "# Réseau réciproque\n",
    "vecteurs_recip = structure.lattice.reciprocal_lattice\n",
    "normes_recip = vecteurs_recip.abc\n",
    "angles_recip = vecteurs_recip.angles\n",
    "\n",
    "print(\"Vecteurs de base du réseau réciproque de la structure:\\n\")\n",
    "print(\"Normes en Ångström:\\n\")\n",
    "print(\"a = {}\\nb = {}\\nc = {}\\n\".format(normes_recip[0], normes_recip[1], normes_recip[2]))\n",
    "print(\"Angles en °:\\n\")\n",
    "print(\"alpha = {}\\nbeta = {}\\ngamma = {}\\n\".format(angles_recip[0], angles_recip[1], angles_recip[2]))"
   ]
  },
  {
   "cell_type": "markdown",
   "metadata": {},
   "source": [
    "## Type de maille\n",
    "\n",
    "Le type de maille est déterminé en analysant la symétrie de la structure cristalline."
   ]
  },
  {
   "cell_type": "code",
   "execution_count": 5,
   "metadata": {},
   "outputs": [
    {
     "name": "stdout",
     "output_type": "stream",
     "text": [
      "Type de maille: rhombohedral\n"
     ]
    }
   ],
   "source": [
    "# Type de maille\n",
    "sga = SpacegroupAnalyzer(structure)\n",
    "lattice_type = sga.get_lattice_type()\n",
    "print(\"Type de maille:\", lattice_type)"
   ]
  },
  {
   "cell_type": "markdown",
   "metadata": {},
   "source": [
    "## Système cristallin\n",
    "\n",
    "Le système cristallin est une classification plus large qui décrit la symétrie de la structure."
   ]
  },
  {
   "cell_type": "code",
   "execution_count": 6,
   "metadata": {},
   "outputs": [
    {
     "name": "stdout",
     "output_type": "stream",
     "text": [
      "Système cristallin: trigonal\n"
     ]
    }
   ],
   "source": [
    "# Système cristallin\n",
    "crystal_system = sga.get_crystal_system()\n",
    "print(\"Système cristallin:\", crystal_system)"
   ]
  },
  {
   "cell_type": "markdown",
   "metadata": {},
   "source": [
    "## Groupe ponctuel\n",
    "\n",
    "Le groupe ponctuel décrit les symétries ponctuelles de la structure cristalline."
   ]
  },
  {
   "cell_type": "code",
   "execution_count": 7,
   "metadata": {},
   "outputs": [
    {
     "name": "stdout",
     "output_type": "stream",
     "text": [
      "Groupe ponctuel: -3m\n"
     ]
    }
   ],
   "source": [
    "# Groupe ponctuel\n",
    "point_group = sga.get_point_group_symbol()\n",
    "print(\"Groupe ponctuel:\", point_group)"
   ]
  }
 ],
 "metadata": {
  "kernelspec": {
   "display_name": "Python 3",
   "language": "python",
   "name": "python3"
  },
  "language_info": {
   "codemirror_mode": {
    "name": "ipython",
    "version": 3
   },
   "file_extension": ".py",
   "mimetype": "text/x-python",
   "name": "python",
   "nbconvert_exporter": "python",
   "pygments_lexer": "ipython3",
   "version": "3.12.9"
  }
 },
 "nbformat": 4,
 "nbformat_minor": 2
}
