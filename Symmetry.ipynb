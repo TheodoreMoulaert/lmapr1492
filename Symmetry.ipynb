{
 "cells": [
  {
   "cell_type": "markdown",
   "metadata": {},
   "source": [
    "# Analyse des Symétries de la Molécule LiRhO2\n",
    "\n",
    "## Introduction\n",
    "Dans ce notebook, nous allons étudier l'effet de trois éléments de symétrie différents sur les atomes de la molécule LiRhO2 (mp-14115). Nous utiliserons la structure conventionnelle pour mieux visualiser les symétries et vérifierons manuellement les résultats obtenus."
   ]
  },
  {
   "cell_type": "code",
   "execution_count": 1,
   "metadata": {},
   "outputs": [],
   "source": [
    "# Importation des bibliothèques nécessaires\n",
    "import numpy as np\n",
    "from mp_api.client import MPRester\n",
    "from pymatgen.core.operations import SymmOp\n",
    "from pymatgen.symmetry.analyzer import SpacegroupAnalyzer\n",
    "from jupyter_jsmol.pymatgen import quick_view"
   ]
  },
  {
   "cell_type": "markdown",
   "metadata": {},
   "source": [
    "## Récupération de la Structure Cristalline"
   ]
  },
  {
   "cell_type": "code",
   "execution_count": 2,
   "metadata": {},
   "outputs": [
    {
     "data": {
      "application/vnd.jupyter.widget-view+json": {
       "model_id": "7fba6a23e86a481e88331a901849ac29",
       "version_major": 2,
       "version_minor": 0
      },
      "text/plain": [
       "Retrieving MaterialsDoc documents:   0%|          | 0/1 [00:00<?, ?it/s]"
      ]
     },
     "metadata": {},
     "output_type": "display_data"
    }
   ],
   "source": [
    "# Récupération de la structure\n",
    "with MPRester(\"SIW188zlPeNPO5kUv2cgLJFjL9GATHk3\") as m:\n",
    "    structure = m.get_structure_by_material_id(\"mp-14115\")\n",
    "\n",
    "# Conversion en structure conventionnelle\n",
    "conv_struc = SpacegroupAnalyzer(structure).get_conventional_standard_structure()\n",
    "symmops = SpacegroupAnalyzer(conv_struc).get_space_group_operations()"
   ]
  },
  {
   "cell_type": "markdown",
   "metadata": {},
   "source": [
    "## Visualisation de la Structure"
   ]
  },
  {
   "cell_type": "code",
   "execution_count": 3,
   "metadata": {
    "scrolled": true
   },
   "outputs": [
    {
     "data": {
      "application/vnd.jupyter.widget-view+json": {
       "model_id": "d883bedd019e4b558a2e188c3a63dc9a",
       "version_major": 2,
       "version_minor": 0
      },
      "text/plain": [
       "JsmolView(layout=Layout(align_self='stretch', height='400px'))"
      ]
     },
     "metadata": {},
     "output_type": "display_data"
    }
   ],
   "source": [
    "# Visualisation de la structure\n",
    "view = quick_view(conv_struc, \"packed\", conventional=True)\n",
    "display(view)"
   ]
  },
  {
   "cell_type": "markdown",
   "metadata": {},
   "source": [
    "## Analyse des Symétries"
   ]
  },
  {
   "cell_type": "markdown",
   "metadata": {},
   "source": [
    "### 1. Rotation de 120° autour de l'axe Z sur l'atome Li\n",
    "\n",
    "$$\n",
    "\\begin{bmatrix} 0 & -1 & 0 \\\\ 1 & -1 & 0 \\\\ 0 & 0 & 1 \\end{bmatrix} \\times \\begin{bmatrix} x \\\\ y \\\\ z \\end{bmatrix} = \\begin{bmatrix} -y \\\\ x-y \\\\ z \\end{bmatrix}\n",
    "$$"
   ]
  },
  {
   "cell_type": "code",
   "execution_count": 4,
   "metadata": {},
   "outputs": [
    {
     "name": "stdout",
     "output_type": "stream",
     "text": [
      "Position initiale de Li : [0.33333333 0.66666667 0.16666667]\n",
      "Matrice de transformation :\n",
      "[[ 0. -1.  0.]\n",
      " [ 1. -1.  0.]\n",
      " [ 0.  0.  1.]]\n",
      "Vecteur tau : [0. 0. 0.]\n",
      "Position finale de Li : [-0.66666667 -0.33333333  0.16666667]\n"
     ]
    }
   ],
   "source": [
    "i_atom = 1  # Atome Li\n",
    "i_symmop = 3  # Opération de symétrie : rotation\n",
    "\n",
    "symmop = symmops[i_symmop - 1]\n",
    "pos_init = conv_struc.sites[i_atom - 1].frac_coords\n",
    "pos_final = symmop.operate(pos_init)\n",
    "matrix = symmop.rotation_matrix\n",
    "tau = symmop.translation_vector\n",
    "\n",
    "print(f\"Position initiale de Li : {pos_init}\")\n",
    "print(f\"Matrice de transformation :\\n{matrix}\")\n",
    "print(f\"Vecteur tau : {tau}\")\n",
    "print(f\"Position finale de Li : {pos_final}\")"
   ]
  },
  {
   "cell_type": "markdown",
   "metadata": {},
   "source": [
    "### Vérification Manuelle"
   ]
  },
  {
   "cell_type": "code",
   "execution_count": 5,
   "metadata": {},
   "outputs": [
    {
     "name": "stdout",
     "output_type": "stream",
     "text": [
      "Position calculée manuellement : [-0.66666667 -0.33333333  0.16666667]\n"
     ]
    }
   ],
   "source": [
    "# Vérification manuelle du calcul\n",
    "pos_computed = np.dot(matrix, pos_init) + tau\n",
    "print(f\"Position calculée manuellement : {pos_computed}\")"
   ]
  },
  {
   "cell_type": "code",
   "execution_count": 6,
   "metadata": {},
   "outputs": [
    {
     "data": {
      "application/vnd.jupyter.widget-view+json": {
       "model_id": "bffa57ff605042dba48067558ed3937b",
       "version_major": 2,
       "version_minor": 0
      },
      "text/plain": [
       "JsmolView(layout=Layout(align_self='stretch', height='400px'))"
      ]
     },
     "metadata": {},
     "output_type": "display_data"
    }
   ],
   "source": [
    "view1 = quick_view(conv_struc, \"packed\", conventional=True)\n",
    "display(view1)"
   ]
  },
  {
   "cell_type": "code",
   "execution_count": 7,
   "metadata": {},
   "outputs": [],
   "source": [
    "view1.script('select lithium; color palegreen')\n",
    "view1.script('draw SYMOP ' + str(3) + ' {atomno = ' + str(1) + '}')"
   ]
  },
  {
   "cell_type": "markdown",
   "metadata": {},
   "source": [
    "### 2. Roto-réflexion sur l'atome Rh\n",
    "- Réflexion par rapport au plan xy\n",
    "- Rotation de 180° autour de l'axe z \n",
    "\n",
    "\n",
    "$$\n",
    "\\begin{bmatrix} 0 & -1 & 0 \\\\ -1 & 0 & 0 \\\\ 0 & 0 & 1 \\end{bmatrix} \\times \\begin{bmatrix} x \\\\ y \\\\ z \\end{bmatrix} = \\begin{bmatrix} -y \\\\ -x \\\\ z \\end{bmatrix}\n",
    "$$"
   ]
  },
  {
   "cell_type": "code",
   "execution_count": 8,
   "metadata": {},
   "outputs": [
    {
     "name": "stdout",
     "output_type": "stream",
     "text": [
      "Position initiale de Rh : [0.66666667 0.33333333 0.33333333]\n",
      "Matrice de transformation :\n",
      "[[ 0. -1.  0.]\n",
      " [-1.  0.  0.]\n",
      " [ 0.  0.  1.]]\n",
      "Vecteur tau : [0. 0. 0.]\n",
      "Position finale de Rh : [-0.33333333 -0.66666667  0.33333333]\n"
     ]
    }
   ],
   "source": [
    "i_atom = 5  # Atome Rh\n",
    "i_symmop = 8  # Opération de symétrie : réflexion et rotation\n",
    "\n",
    "symmop = symmops[i_symmop - 1]\n",
    "pos_init = conv_struc.sites[i_atom - 1].frac_coords\n",
    "pos_final = symmop.operate(pos_init)\n",
    "matrix = symmop.rotation_matrix\n",
    "tau = symmop.translation_vector\n",
    "\n",
    "print(f\"Position initiale de Rh : {pos_init}\")\n",
    "print(f\"Matrice de transformation :\\n{matrix}\")\n",
    "print(f\"Vecteur tau : {tau}\")\n",
    "print(f\"Position finale de Rh : {pos_final}\")"
   ]
  },
  {
   "cell_type": "markdown",
   "metadata": {},
   "source": [
    "### Vérification Manuelle"
   ]
  },
  {
   "cell_type": "code",
   "execution_count": 9,
   "metadata": {},
   "outputs": [
    {
     "name": "stdout",
     "output_type": "stream",
     "text": [
      "Position calculée manuellement : [-0.33333333 -0.66666667  0.33333333]\n"
     ]
    }
   ],
   "source": [
    "# Vérification manuelle du calcul\n",
    "pos_computed = np.dot(matrix, pos_init) + tau\n",
    "print(f\"Position calculée manuellement : {pos_computed}\")"
   ]
  },
  {
   "cell_type": "code",
   "execution_count": 10,
   "metadata": {},
   "outputs": [
    {
     "data": {
      "application/vnd.jupyter.widget-view+json": {
       "model_id": "3e29f1de4c534095bb6c6308d8b1e1b9",
       "version_major": 2,
       "version_minor": 0
      },
      "text/plain": [
       "JsmolView(layout=Layout(align_self='stretch', height='400px'))"
      ]
     },
     "metadata": {},
     "output_type": "display_data"
    }
   ],
   "source": [
    "view2 = quick_view(conv_struc, \"packed\", conventional=True)\n",
    "display(view2)"
   ]
  },
  {
   "cell_type": "code",
   "execution_count": 17,
   "metadata": {},
   "outputs": [],
   "source": [
    "# Appliquer la réflexion par rapport au plan XY\n",
    "view2.script('draw PLANE xy')\n",
    "view2.script('select rhodium; color blue') \n",
    "\n",
    "# Appliquer la rotation de 180° autour de l'axe Z\n",
    "view2.script('rotate z 180') \n",
    "view2.script('draw SYMOP 8 {atomno = 5}') \n"
   ]
  },
  {
   "cell_type": "markdown",
   "metadata": {},
   "source": [
    "### 3. Inversion par rapport à l'origine sur l'atome O\n",
    "\n",
    "$$\n",
    "\\begin{bmatrix} -1 & 0 & 0 \\\\ 0 & -1 & 0 \\\\ 0 & 0 & -1 \\end{bmatrix} \\times \\begin{bmatrix} x \\\\ y \\\\ z \\end{bmatrix} = \\begin{bmatrix} -x \\\\ -y \\\\ -z \\end{bmatrix}\n",
    "$$"
   ]
  },
  {
   "cell_type": "code",
   "execution_count": 12,
   "metadata": {},
   "outputs": [
    {
     "name": "stdout",
     "output_type": "stream",
     "text": [
      "Position initiale de O : [0.66666667 0.33333333 0.07725423]\n",
      "Matrice de transformation :\n",
      "[[-1.  0.  0.]\n",
      " [ 0. -1.  0.]\n",
      " [ 0.  0. -1.]]\n",
      "Vecteur tau : [0.66666667 0.33333333 0.33333333]\n",
      "Position finale de O : [0.        0.        0.2560791]\n"
     ]
    }
   ],
   "source": [
    "i_atom = 7  # Atome O\n",
    "i_symmop = 14  # Opération de symétrie : inversion\n",
    "\n",
    "symmop = symmops[i_symmop - 1]\n",
    "pos_init = conv_struc.sites[i_atom - 1].frac_coords\n",
    "pos_final = symmop.operate(pos_init)\n",
    "matrix = symmop.rotation_matrix\n",
    "tau = symmop.translation_vector\n",
    "\n",
    "print(f\"Position initiale de O : {pos_init}\")\n",
    "print(f\"Matrice de transformation :\\n{matrix}\")\n",
    "print(f\"Vecteur tau : {tau}\")\n",
    "print(f\"Position finale de O : {pos_final}\")"
   ]
  },
  {
   "cell_type": "markdown",
   "metadata": {},
   "source": [
    "### Vérification Manuelle"
   ]
  },
  {
   "cell_type": "code",
   "execution_count": 13,
   "metadata": {},
   "outputs": [
    {
     "name": "stdout",
     "output_type": "stream",
     "text": [
      "Position calculée manuellement : [0.        0.        0.2560791]\n"
     ]
    }
   ],
   "source": [
    "# Vérification manuelle du calcul\n",
    "pos_computed = np.dot(matrix, pos_init) + tau\n",
    "print(f\"Position calculée manuellement : {pos_computed}\")"
   ]
  },
  {
   "cell_type": "code",
   "execution_count": 14,
   "metadata": {},
   "outputs": [
    {
     "data": {
      "application/vnd.jupyter.widget-view+json": {
       "model_id": "c55d44a813b046af9ed215f0f2d5d46b",
       "version_major": 2,
       "version_minor": 0
      },
      "text/plain": [
       "JsmolView(layout=Layout(align_self='stretch', height='400px'))"
      ]
     },
     "metadata": {},
     "output_type": "display_data"
    }
   ],
   "source": [
    "view3 = quick_view(conv_struc, \"packed\", conventional=True)\n",
    "display(view3)"
   ]
  },
  {
   "cell_type": "code",
   "execution_count": 16,
   "metadata": {},
   "outputs": [],
   "source": [
    "view3.script('select oxygen; color red')  # Atome O en rouge\n",
    "view3.script('draw SYMOP 11 {atomno = 7}')  # Application de la symétrie sur O\n",
    "\n",
    "# Ajout de la flèche de translation, affichée dans une autre couleur (par exemple, bleu)\n",
    "view3.script('select oxygen; color blue')  # Changer la couleur de la flèche en bleu\n",
    "view3.script('draw arrow 0.66666667 0.33333333 0.07725423 0.66666667 0.33333333 0.33333333; color blue')"
   ]
  },
  {
   "cell_type": "markdown",
   "metadata": {},
   "source": [
    "## Conclusion\n",
    "Ce notebook a analysé l'effet des opérations de symétrie sur la structure cristalline de LiRhO₂, en vérifiant manuellement les transformations et en les illustrant via Jupyter-JSmol. Cette approche permet de mieux comprendre l’impact de la symétrie sur les propriétés des matériaux."
   ]
  }
 ],
 "metadata": {
  "kernelspec": {
   "display_name": "Python 3 (ipykernel)",
   "language": "python",
   "name": "python3"
  },
  "language_info": {
   "codemirror_mode": {
    "name": "ipython",
    "version": 3
   },
   "file_extension": ".py",
   "mimetype": "text/x-python",
   "name": "python",
   "nbconvert_exporter": "python",
   "pygments_lexer": "ipython3",
   "version": "3.9.13"
  }
 },
 "nbformat": 4,
 "nbformat_minor": 4
}
